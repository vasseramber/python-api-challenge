{
 "cells": [
  {
   "cell_type": "markdown",
   "metadata": {},
   "source": [
    "# WeatherPy\n",
    "----\n",
    "\n",
    "#### Note\n",
    "* Instructions have been included for each segment. You do not have to follow them exactly, but they are included to help you think through the steps."
   ]
  },
  {
   "cell_type": "code",
   "execution_count": 31,
   "metadata": {
    "scrolled": true
   },
   "outputs": [],
   "source": [
    "# Dependencies and Setup\n",
    "import matplotlib.pyplot as plt\n",
    "import pandas as pd\n",
    "import numpy as np\n",
    "import requests\n",
    "import time\n",
    "\n",
    "# Import API key\n",
    "from api_keys import api_key\n",
    "\n",
    "# Incorporated citipy to determine city based on latitude and longitude\n",
    "from citipy import citipy\n",
    "\n",
    "# Output File (CSV)\n",
    "output_data_file = \"output_data/cities.csv\"\n",
    "\n",
    "# Range of latitudes and longitudes\n",
    "lat_range = (-90, 90)\n",
    "lng_range = (-180, 180)"
   ]
  },
  {
   "cell_type": "markdown",
   "metadata": {},
   "source": [
    "## Generate Cities List"
   ]
  },
  {
   "cell_type": "code",
   "execution_count": 32,
   "metadata": {},
   "outputs": [
    {
     "name": "stdout",
     "output_type": "stream",
     "text": [
      "['korla', 'bolivar', 'upernavik', 'cabo san lucas', 'hambantota', 'jamestown', 'salalah', 'amderma', 'alyangula', 'albany', 'hobart', 'batagay-alyta', 'mizan teferi', 'dikson', 'esperance', 'chokurdakh', 'san carlos de bariloche', 'port alfred', 'harper', 'katsuura', 'ushuaia', 'mataura', 'bethel', 'hermanus', 'kodiak', 'kavaratti', 'la ronge', 'castro', 'avarua', 'hilo', 'bredasdorp', 'yurty', 'jijiga', 'yar-sale', 'fussen', 'kapaa', 'vaini', 'batouri', 'hihifo', 'havre-saint-pierre', 'kamenskoye', 'opobo', 'malwan', 'seymchan', 'port elizabeth', 'caramay', 'ternate', 'punta arenas', 'te anau', 'pundaguitan', 'tiksi', 'smithers', 'flinders', 'yilan', 'mar del plata', 'saint-philippe', 'anadyr', 'new norfolk', 'camopi', 'lagoa', 'ballina', 'shalinskoye', 'ambovombe', 'caravelas', 'morgan city', 'porto novo', 'pisco', 'souillac', 'severo-yeniseyskiy', 'arraial do cabo', 'torbay', 'longyearbyen', 'puerto ayora', 'saldanha', 'karratha', 'belushya guba', 'thanyaburi', 'soe', 'bolungarvik', 'attawapiskat', 'lebu', 'solvychegodsk', 'sentyabrskiy', 'riyadh', 'coquimbo', 'maltahohe', 'cururupu', 'shepsi', 'zhoucheng', 'jinchang', 'azimur', 'taolanaro', 'husavik', 'nikolskoye', 'barrow', 'rikitea', 'sirjan', 'svetlyy', 'georgetown', 'soyo', 'karasjok', 'ayia galini', 'muros', 'pangnirtung', 'vaitupu', 'skalistyy', 'busselton', 'victoria', 'ferme-neuve', 'brightwater', 'wawa', 'sitka', 'chatellerault', 'saryagash', 'shingu', 'saskylakh', 'santa maria', 'beringovskiy', 'provideniya', 'bluff', 'butaritari', 'nibong tebal', 'pevek', 'port-gentil', 'bengkulu', 'norman wells', 'liancheng', 'wroclaw', 'vila velha', 'bandarbeyla', 'rio gallegos', 'ribeira grande', 'yellowknife', 'sibu', 'clyde river', 'udachnyy', 'tumannyy', 'mahebourg', 'kidal', 'saint-denis', 'chuy', 'mys shmidta', 'codrington', 'ahipara', 'illoqqortoormiut', 'samusu', 'gazanjyk', 'grand river south east', 'huarmey', 'marcona', 'touros', 'klaksvik', 'vila franca do campo', 'qaanaaq', 'gryazovets', 'bambous virieux', 'mora', 'banepa', 'saint-augustin', 'nishihara', 'nizwa', 'nuuk', 'pali', 'severo-kurilsk', 'ilulissat', 'leningradskiy', 'long beach', 'ondorhaan', 'cidreira', 'burica', 'port keats', 'iqaluit', 'itoman', 'airai', 'labytnangi', 'alcazar de san juan', 'vao', 'tasiilaq', 'igrim', 'kysyl-syr', 'eureka', 'ponta do sol', 'faanui', 'ligayan', 'dubbo', 'mul', 'yaan', 'lata', 'thompson', 'yulara', 'wesselsbron', 'tura', 'pithoragarh', 'mamakan', 'warrington', 'mbandaka', 'pimenta bueno', 'biltine', 'tuktoyaktuk', 'manakara', 'kaitangata', 'goma', 'luderitz', 'sambava', 'nanortalik', 'kindu', 'barentsburg', 'calama', 'khatanga', 'lavrentiya', 'cape town', 'nizhneyansk', 'san andres', 'vastervik', 'atar', 'menongue', 'mayo', 'coahuayana', 'kaseda', 'los llanos de aridane', 'mae sai', 'port augusta', 'waingapu', 'terney', 'constitucion', 'rungata', 'vardo', 'kantunilkin', 'gurskoye', 'kirakira', 'amahai', 'dzhusaly', 'aleksandrov gay', 'matagami', 'watsa', 'japura', 'buariki', 'port hedland', 'angra', 'alice springs', 'maceio', 'nara', 'abu samrah', 'rocha', 'lorengau', 'nsoko', 'dzaoudzi', 'marsa matruh', 'wiarton', 'linxia', 'lethbridge', 'albuquerque', 'verkhoyansk', 'hovd', 'hobyo', 'boa vista', 'kultuk', 'maibong', 'vrangel', 'darhan', 'zhireken', 'hasaki', 'presidencia roque saenz pena', 'sudislavl', 'belmonte', 'sibolga', 'juneau', 'east london', 'along', 'san quintin', 'piacabucu', 'manzil tamim', 'palabuhanratu', 'northam', 'sao filipe', 'sisimiut', 'hami', 'lagos', 'requena', 'azare', 'pangody', 'santa cruz', 'portland', 'elizabeth city', 'crawfordsville', 'tessalit', 'upata', 'banda aceh', 'stornoway', 'atuona', 'zhuhai', 'turukhansk', 'alta floresta', 'asau', 'kisangani', 'storforshei', 'carnarvon', 'gaogou', 'coari', 'roald', 'mount isa', 'kununurra', 'saint george', 'nioro', 'inhambane', 'college', 'komsomolskiy', 'hithadhoo', 'svetlogorsk', 'kungurtug', 'fortuna', 'saint-joseph', 'general pico', 'ulladulla', 'egvekinot', 'imbituba', 'micheweni', 'havelock', 'necochea', 'den helder', 'bathurst', 'fort nelson', 'cockburn town', 'laguna', 'cap-aux-meules', 'lompoc', 'sistranda', 'jabiru', 'richards bay', 'sydney', 'inirida', 'ghanzi', 'izazi', 'nome', 'archidona', 'louisbourg', 'talcahuano', 'margate', 'san cristobal', 'derzhavinsk', 'tsihombe', 'kruisfontein', 'utiroa', 'ocampo', 'rovenki', 'esfarayen', 'klyuchevsk', 'yuncheng', 'sao mateus do maranhao', 'at-bashi', 'cherskiy', 'rawson', 'yatou', 'conde', 'champerico', 'bilibino', 'naugachhia', 'salgueiro', 'male', 'wajima', 'kavieng', 'rijkevorsel', 'lityn', 'severnyy', 'berlevag', 'morros', 'maymyo', 'ust-maya', 'aldan', 'mwadui', 'papar', 'mahajanga', 'guerrero negro', 'auki', 'vila', 'faya', 'kupang', 'ipixuna', 'saleaula', 'daru', 'rognan', 'pontian kecil', 'broome', 'kalmunai', 'det udom', 'tamazulapam', 'holme', 'palmer', 'fairbanks', 'tuatapere', 'ganzhou', 'krizevci', 'labuhan', 'saint anthony', 'north bend', 'alofi', 'ixtapa', 'khilok', 'koungou', 'kailua', 'tougue', 'portobelo', 'kieta', 'kannauj', 'shenzhen', 'okha', 'bell ville', 'bubaque', 'daule', 'cap malheureux', 'beyneu', 'majagual', 'grand gaube', 'blackwater', 'abu dhabi', 'binzhou', 'oudtshoorn', 'antofagasta', 'marica', 'karakendzha', 'jibuti', 'broken hill', 'baherden', 'lerwick', 'abha', 'ouegoa', 'coria', 'pacific grove', 'akyab', 'pingliang', 'bela', 'general delgado', 'vanavara', 'santa', 'baker city', 'puerto escondido', 'garm', 'kirensk', 'uige', 'tawkar', 'lapua', 'twistringen', 'burgeo', 'simao', 'barbar', 'teguise', 'key west', 'nanakuli', 'naliya', 'bathsheba', 'najran', 'padang', 'dunedin', 'radchenko', 'milingimbi', 'talnakh', 'biasca', 'euclides da cunha', 'noumea', 'gelterkinden', 'sitamau', 'anloga', 'pangai', 'goundam', 'eldikan', 'mattru', 'rafai', 'kijang', 'xining', 'sioux lookout', 'chabahar', 'peniche', 'sinnamary', 'rabo de peixe', 'conselheiro pena', 'arai', 'jalu', 'paamiut', 'deputatskiy', 'marawi', 'pokhara', 'camacha', 'buin', 'gohpur', 'altay', 'puerto madryn', 'mets masrik', 'ponta delgada', 'zachagansk', 'atherton', 'bargal', 'high level', 'impfondo', 'lakatoro', 'santa cruz de la palma', 'rumphi', 'chimbote', 'san patricio', 'bud', 'hay river', 'changji', 'dosso', 'alvaraes', 'nagua', 'road town', 'kemijarvi', 'srednekolymsk', 'sungaipenuh', 'letcani', 'sabha', 'lasa', 'tallahassee', 'vernon', 'praia da vitoria', 'sulangan', 'ipora', 'santana do livramento', 'ola', 'gobabis', 'shushenskoye', 'yei', 'krivosheino', 'port blair', 'kedrovyy', 'fukue', 'axim', 'jiangyou', 'saquarema', 'puro', 'quatre cocos', 'geraldton', 'ngukurr', 'meulaboh', 'molnlycke', 'uvalde', 'chihuahua', 'mandalgovi', 'marzuq', 'miles city', 'litovko', 'cayenne', 'sasolburg', 'port shepstone', 'port macquarie', 'lolua', 'la rioja', 'moranbah', 'shache', 'salym', 'malanje', 'gat', 'katobu', 'nalut', 'konde', 'dalvik', 'avera', 'ugoofaaru', 'tautira', 'dukat', 'grindavik', 'lephepe', 'kuusamo', 'fevralsk', 'novyy urgal', 'umzimvubu', 'omsukchan', 'burglengenfeld', 'blagoveshchenka', 'sataua', 'rodrigues alves', 'yanliang', 'panguna', 'macenta', 'berezovyy', 'hurghada', 'half moon bay', 'honiara', 'luwuk', 'waupun', 'nanchong', 'les cayes', 'salekhard', 'mrirt', 'nador', 'warqla', 'ous']\n"
     ]
    }
   ],
   "source": [
    "# List for holding lat_lngs and cities\n",
    "lat_lngs = []\n",
    "cities = []\n",
    "\n",
    "# Create a set of random lat and lng combinations\n",
    "lats = np.random.uniform(low=-90.000, high=90.000, size=1500)\n",
    "lngs = np.random.uniform(low=-180.000, high=180.000, size=1500)\n",
    "lat_lngs = zip(lats, lngs)\n",
    "\n",
    "# Identify nearest city for each lat, lng combination\n",
    "for lat_lng in lat_lngs:\n",
    "    city = citipy.nearest_city(lat_lng[0], lat_lng[1]).city_name\n",
    "    \n",
    "    # If the city is unique, then add it to a our cities list\n",
    "    if city not in cities:\n",
    "        cities.append(city)\n",
    "\n",
    "# Print the city count to confirm sufficient count\n",
    "print(cities)"
   ]
  },
  {
   "cell_type": "markdown",
   "metadata": {},
   "source": [
    "### Perform API Calls\n",
    "* Perform a weather check on each city using a series of successive API calls.\n",
    "* Include a print log of each city as it'sbeing processed (with the city number and city name).\n"
   ]
  },
  {
   "cell_type": "code",
   "execution_count": 33,
   "metadata": {},
   "outputs": [
    {
     "name": "stdout",
     "output_type": "stream",
     "text": [
      "{'coord': {'lon': -74.01, 'lat': 40.71}, 'weather': [{'id': 300, 'main': 'Drizzle', 'description': 'light intensity drizzle', 'icon': '09n'}], 'base': 'stations', 'main': {'temp': 40.93, 'feels_like': 32.29, 'temp_min': 37.99, 'temp_max': 43, 'pressure': 1020, 'humidity': 60}, 'visibility': 16093, 'wind': {'speed': 8.05, 'deg': 200}, 'clouds': {'all': 90}, 'dt': 1581559184, 'sys': {'type': 1, 'id': 4686, 'country': 'US', 'sunrise': 1581508474, 'sunset': 1581546370}, 'timezone': -18000, 'id': 5128581, 'name': 'New York City', 'cod': 200}\n"
     ]
    }
   ],
   "source": [
    "url= \" http://api.openweathermap.org/data/2.5/weather?units=Imperial&APPID=\" +api_key\n",
    "city_url= url+\"&q=\"+\"New York\"\n",
    "response = requests.get(city_url).json()\n",
    "print(response)"
   ]
  },
  {
   "cell_type": "markdown",
   "metadata": {},
   "source": [
    "### Convert Raw Data to DataFrame\n",
    "* Export the city data into a .csv.\n",
    "* Display the DataFrame"
   ]
  },
  {
   "cell_type": "code",
   "execution_count": 35,
   "metadata": {},
   "outputs": [
    {
     "name": "stdout",
     "output_type": "stream",
     "text": [
      "<Response [401]>\n",
      "cod\n",
      "citynotfound\n",
      "<Response [401]>\n",
      "message\n",
      "citynotfound\n"
     ]
    }
   ],
   "source": [
    "data= [] \n",
    "cities = response\n",
    "i= 0\n",
    "for city in cities:\n",
    "    response = requests.get(url + city + \"&appid=\" + api_key)\n",
    "    print(response)\n",
    "    print(city)\n",
    "    i = i+1\n",
    "    try:\n",
    "        temp= response[\"main\"][\"temp_max\"]\n",
    "        humditiy= response[\"main\"][\"humidity\"]\n",
    "        speed= response[\"wind\"][\"speed\"]\n",
    "        cloudiness= response [\"clouds\"][\"all\"]\n",
    "        latitude= response[\"coord\"][\"lat\"]\n",
    "        longitude= response[\"coord\"][\"lon\"]\n",
    "        country= response[\"sys\"][\"country\"]\n",
    "        date= response[\"dt\"]\n",
    "        data.append([city, cloudiness, country, date, humidity, latitude, longitude, temp, speed])\n",
    "        print(f\"counter{i} || {city}\")\n",
    "        time.sleep(1)\n",
    "    except:\n",
    "        print(\"citynotfound\")"
   ]
  },
  {
   "cell_type": "code",
   "execution_count": 16,
   "metadata": {},
   "outputs": [],
   "source": [
    "data_df= pd.DataFrame(data,columns=[\"City\", \"Cloudiness\",\"Country\",\"Date\", \"Humidity\", \"Lat\", \"Lng\", \"Max Temp\", \"Wind Speed\"])"
   ]
  },
  {
   "cell_type": "markdown",
   "metadata": {},
   "source": [
    "### Plotting the Data\n",
    "* Use proper labeling of the plots using plot titles (including date of analysis) and axes labels.\n",
    "* Save the plotted figures as .pngs."
   ]
  },
  {
   "cell_type": "code",
   "execution_count": 17,
   "metadata": {},
   "outputs": [],
   "source": [
    "date=time.strftime(\"%d%m%y\")"
   ]
  },
  {
   "cell_type": "markdown",
   "metadata": {},
   "source": [
    "#### Latitude vs. Temperature Plot"
   ]
  },
  {
   "cell_type": "code",
   "execution_count": 18,
   "metadata": {},
   "outputs": [
    {
     "data": {
      "text/plain": [
       "Text(0.5, 1.0, 'City Latitude vs. Max Temperature110220')"
      ]
     },
     "execution_count": 18,
     "metadata": {},
     "output_type": "execute_result"
    },
    {
     "data": {
      "image/png": "[encoded data removed]",
      "text/plain": [
       "<Figure size 432x288 with 1 Axes>"
      ]
     },
     "metadata": {
      "needs_background": "light"
     },
     "output_type": "display_data"
    }
   ],
   "source": [
    "plt.scatter(data_df[\"Lat\"],data_df[\"Max Temp\"], c=\"lightblue\", edgecolor=\"black\")\n",
    "plt.title(f\"City Latitude vs. Max Temperature{date}\")"
   ]
  },
  {
   "cell_type": "markdown",
   "metadata": {},
   "source": [
    "#### Latitude vs. Humidity Plot"
   ]
  },
  {
   "cell_type": "code",
   "execution_count": 19,
   "metadata": {},
   "outputs": [
    {
     "data": {
      "text/plain": [
       "Text(0.5, 1.0, 'City Latitude vs. Humidity110220')"
      ]
     },
     "execution_count": 19,
     "metadata": {},
     "output_type": "execute_result"
    },
    {
     "data": {
      "image/png": "[encoded data removed]",
      "text/plain": [
       "<Figure size 432x288 with 1 Axes>"
      ]
     },
     "metadata": {
      "needs_background": "light"
     },
     "output_type": "display_data"
    }
   ],
   "source": [
    "plt.scatter(data_df[\"Lat\"],data_df[\"Humidity\"], c=\"lightblue\", edgecolor=\"black\")\n",
    "plt.title(f\"City Latitude vs. Humidity{date}\")"
   ]
  },
  {
   "cell_type": "markdown",
   "metadata": {},
   "source": [
    "#### Latitude vs. Cloudiness Plot"
   ]
  },
  {
   "cell_type": "code",
   "execution_count": 20,
   "metadata": {},
   "outputs": [
    {
     "data": {
      "text/plain": [
       "Text(0.5, 1.0, 'City Latitude vs. Cloudiness110220')"
      ]
     },
     "execution_count": 20,
     "metadata": {},
     "output_type": "execute_result"
    },
    {
     "data": {
      "image/png": "[encoded data removed]",
      "text/plain": [
       "<Figure size 432x288 with 1 Axes>"
      ]
     },
     "metadata": {
      "needs_background": "light"
     },
     "output_type": "display_data"
    }
   ],
   "source": [
    "plt.scatter(data_df[\"Lat\"],data_df[\"Cloudiness\"], c=\"lightblue\", edgecolor=\"black\")\n",
    "plt.title(f\"City Latitude vs. Cloudiness{date}\")"
   ]
  },
  {
   "cell_type": "markdown",
   "metadata": {},
   "source": [
    "#### Latitude vs. Wind Speed Plot"
   ]
  },
  {
   "cell_type": "code",
   "execution_count": 21,
   "metadata": {},
   "outputs": [
    {
     "data": {
      "text/plain": [
       "Text(0.5, 1.0, 'City Latitude vs. Wind Speed110220')"
      ]
     },
     "execution_count": 21,
     "metadata": {},
     "output_type": "execute_result"
    },
    {
     "data": {
      "image/png": "[encoded data removed]",
      "text/plain": [
       "<Figure size 432x288 with 1 Axes>"
      ]
     },
     "metadata": {
      "needs_background": "light"
     },
     "output_type": "display_data"
    }
   ],
   "source": [
    "plt.scatter(data_df[\"Lat\"],data_df[\"Wind Speed\"], c=\"lightblue\", edgecolor=\"black\")\n",
    "plt.title(f\"City Latitude vs. Wind Speed{date}\")"
   ]
  },
  {
   "cell_type": "code",
   "execution_count": null,
   "metadata": {},
   "outputs": [],
   "source": []
  }
 ],
 "metadata": {
  "anaconda-cloud": {},
  "kernel_info": {
   "name": "python3"
  },
  "kernelspec": {
   "display_name": "Python 3",
   "language": "python",
   "name": "python3"
  },
  "language_info": {
   "codemirror_mode": {
    "name": "ipython",
    "version": 3
   },
   "file_extension": ".py",
   "mimetype": "text/x-python",
   "name": "python",
   "nbconvert_exporter": "python",
   "pygments_lexer": "ipython3",
   "version": "3.7.3"
  },
  "nteract": {
   "version": "0.12.3"
  }
 },
 "nbformat": 4,
 "nbformat_minor": 2
}
